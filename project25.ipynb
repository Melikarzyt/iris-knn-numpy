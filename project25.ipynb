{
 "cells": [
  {
   "cell_type": "markdown",
   "id": "8073b440",
   "metadata": {},
   "source": [
    "In this project, we analyze and process the Iris flower dataset using the Numpy library"
   ]
  },
  {
   "cell_type": "code",
   "execution_count": 21,
   "id": "c0b5c94e",
   "metadata": {},
   "outputs": [],
   "source": [
    "import numpy as np"
   ]
  },
  {
   "cell_type": "markdown",
   "id": "a3afb6a4",
   "metadata": {},
   "source": [
    "The features of 120 Iris flowers are used as the training data."
   ]
  },
  {
   "cell_type": "code",
   "execution_count": 22,
   "id": "28c138b8",
   "metadata": {},
   "outputs": [
    {
     "name": "stdout",
     "output_type": "stream",
     "text": [
      "(120, 4)\n"
     ]
    }
   ],
   "source": [
    "irises = np.load('irises.npy')\n",
    "print(irises.shape)"
   ]
  },
  {
   "cell_type": "markdown",
   "id": "a680e9bb",
   "metadata": {},
   "source": [
    "The labels of these flowers are provided in a separate array as numerical values."
   ]
  },
  {
   "cell_type": "code",
   "execution_count": 23,
   "id": "c70b0ab0",
   "metadata": {},
   "outputs": [
    {
     "name": "stdout",
     "output_type": "stream",
     "text": [
      "(120,)\n"
     ]
    }
   ],
   "source": [
    "types = np.load('types.npy')\n",
    "print(types.shape)"
   ]
  },
  {
   "cell_type": "markdown",
   "id": "30d1300e",
   "metadata": {},
   "source": [
    "The features of 30 other Iris flowers with unknown labels are used as the test data."
   ]
  },
  {
   "cell_type": "code",
   "execution_count": 24,
   "id": "7964a35a",
   "metadata": {},
   "outputs": [
    {
     "name": "stdout",
     "output_type": "stream",
     "text": [
      "(30, 4)\n"
     ]
    }
   ],
   "source": [
    "new_irises = np.load('new_irises.npy')\n",
    "print(new_irises.shape)"
   ]
  },
  {
   "cell_type": "markdown",
   "id": "1cf3e43d",
   "metadata": {},
   "source": [
    "We denote the number of training samples as n and the number of test samples as m"
   ]
  },
  {
   "cell_type": "code",
   "execution_count": 25,
   "id": "52ab876c",
   "metadata": {},
   "outputs": [
    {
     "name": "stdout",
     "output_type": "stream",
     "text": [
      "Number of training samples (n): 120\n",
      "Number of test samples (m): 30\n"
     ]
    }
   ],
   "source": [
    "n, m = len(irises), len(new_irises)\n",
    "print(\"Number of training samples (n):\", n)\n",
    "print(\"Number of test samples (m):\", m)"
   ]
  },
  {
   "cell_type": "markdown",
   "id": "e70f6e37",
   "metadata": {},
   "source": [
    "Three methods for distance calculation are compared: two loops, one loop and no loop"
   ]
  },
  {
   "cell_type": "code",
   "execution_count": 26,
   "id": "2e14773c",
   "metadata": {},
   "outputs": [],
   "source": [
    "def calc_two_loops(new_points, points):\n",
    "    \n",
    "    m = len(new_points)\n",
    "    n = len(points)\n",
    "    d = np.zeros((m, n))\n",
    "    \n",
    "    for i in range(m):\n",
    "        for j in range(n):\n",
    "            d[i, j] = np.sqrt(np.sum(np.square(new_points[i] - points[j])))\n",
    "            \n",
    "    return d"
   ]
  },
  {
   "cell_type": "code",
   "execution_count": 27,
   "id": "2e3e9b03",
   "metadata": {},
   "outputs": [
    {
     "name": "stdout",
     "output_type": "stream",
     "text": [
      "(30, 120)\n"
     ]
    }
   ],
   "source": [
    "d2 = calc_two_loops(new_irises, irises)\n",
    "print(d2.shape)"
   ]
  },
  {
   "cell_type": "code",
   "execution_count": 28,
   "id": "f6ee0f2b",
   "metadata": {},
   "outputs": [],
   "source": [
    "def calc_one_loop(new_points, points):\n",
    "    \n",
    "    m = len(new_points)\n",
    "    n = len(points)\n",
    "    d = np.zeros((m, n))\n",
    "    \n",
    "    for i in range(m):\n",
    "        d[i] = np.sqrt(np.sum(np.square(points - new_points[i]), axis=1))\n",
    "    return d"
   ]
  },
  {
   "cell_type": "code",
   "execution_count": 29,
   "id": "8d64ed56",
   "metadata": {},
   "outputs": [
    {
     "name": "stdout",
     "output_type": "stream",
     "text": [
      "(30, 120)\n"
     ]
    }
   ],
   "source": [
    "d1 = calc_one_loop(new_irises, irises)\n",
    "print(d1.shape)"
   ]
  },
  {
   "cell_type": "code",
   "execution_count": 30,
   "id": "f4db4cd8",
   "metadata": {},
   "outputs": [],
   "source": [
    "def calc_no_loop(new_points, points):\n",
    "    distances = np.sqrt(\n",
    "        np.sum(\n",
    "            np.square(new_points[:, np.newaxis, :] - points[np.newaxis, :, :]),\n",
    "            axis=2\n",
    "        )\n",
    "    )\n",
    "    return distances"
   ]
  },
  {
   "cell_type": "code",
   "execution_count": 31,
   "id": "c77e3c42",
   "metadata": {},
   "outputs": [
    {
     "name": "stdout",
     "output_type": "stream",
     "text": [
      "(30, 120)\n"
     ]
    }
   ],
   "source": [
    "d = calc_no_loop(new_irises, irises)\n",
    "print(d.shape)"
   ]
  },
  {
   "cell_type": "code",
   "execution_count": 32,
   "id": "8ab81123",
   "metadata": {},
   "outputs": [
    {
     "name": "stdout",
     "output_type": "stream",
     "text": [
      "0.0\n",
      "0.0\n",
      "0.0\n"
     ]
    }
   ],
   "source": [
    "print(np.abs(d - d1).max())\n",
    "print(np.abs(d - d2).max())\n",
    "print(np.abs(d1 - d2).max())"
   ]
  },
  {
   "cell_type": "markdown",
   "id": "a415cb38",
   "metadata": {},
   "source": [
    "The distance arrays calculated using the three methods above should produce the same result.\n",
    "Therefore, the following code is executed to verify this "
   ]
  },
  {
   "cell_type": "code",
   "execution_count": 33,
   "id": "d3e9979a",
   "metadata": {},
   "outputs": [
    {
     "name": "stdout",
     "output_type": "stream",
     "text": [
      "Fine!\n"
     ]
    }
   ],
   "source": [
    "if np.allclose(d, d1, 1e-5) and np.allclose(d, d2, 1e-5) and np.allclose(d1, d2, 1e-5):\n",
    "    print('Fine!')\n",
    "else:\n",
    "    print('There is something wrong!')"
   ]
  },
  {
   "cell_type": "markdown",
   "metadata": {},
   "source": [
    "Finding the k_nearest neighbors, where the output of K_nearest will be a matrix with shape(30,10)"
   ]
  },
  {
   "cell_type": "code",
   "execution_count": 34,
   "id": "bc180c8e",
   "metadata": {},
   "outputs": [
    {
     "name": "stdout",
     "output_type": "stream",
     "text": [
      "[[  6  14   0  32  22  17  39  21  23  37]\n",
      " [ 10   1  30  24  20   2  36   3   6  28]\n",
      " [ 27  13   8  39   4  29  15  12  26  25]\n",
      " [ 14  17   0  39  37  22   8  32  26  13]\n",
      " [ 21  20  30   3   9  24   6  19  35   5]\n",
      " [ 10   1   2   3  38   5  36  30  24   9]\n",
      " [ 10   1  30  24  20   2  36   3   6  28]\n",
      " [  0   6  22  23  21  14   9  32  17  39]\n",
      " [ 39  35  17  22   4  21  37  19   8  16]\n",
      " [ 28   6  23   0  14  21  30  32  22   9]\n",
      " [ 47  73  69  61  52  51  41  60 101  58]\n",
      " [ 71  43  65  64  77  72  66  76  74  54]\n",
      " [ 71  65  74  64  66  77  76  54  57  49]\n",
      " [ 64  65  74  66  43  50  54  72  77  71]\n",
      " [ 78  60  47  41  73  52  63  57  51  59]\n",
      " [ 74  65  54  64  66  43  50  57  71  75]\n",
      " [ 77  71  44  53  72  76  49  97  56  63]\n",
      " [ 72  66  64  74  43  65  77  54  71  76]\n",
      " [ 77  74  44  72  71  76  54  66  43  53]\n",
      " [ 74  71  66  76  77  54  57  44  49  72]\n",
      " [ 90 103 106  96 112 115  93 110  83  80]\n",
      " [ 82  96 100 108  94 115 112 105  80  84]\n",
      " [111  92  97 117  81 114 102  91 101  56]\n",
      " [107  67  81 117  58 114  91  99  55  70]\n",
      " [110  82  90  92  96 115  93 109 112 103]\n",
      " [100 104  82  86  96  93  90  87 115 110]\n",
      " [107  83  87  89  67  58  93 110  81 114]\n",
      " [113  90 118 112 116  96  93  82  88  92]\n",
      " [115  96 112 109  80  90  92 116 119 106]\n",
      " [114 102 111  81  97  67  56 107  99 101]]\n"
     ]
    }
   ],
   "source": [
    "k = 10\n",
    "k_nearest = np.argpartition(d, k, axis=1)[:, :k]\n",
    "print(k_nearest)"
   ]
  },
  {
   "cell_type": "code",
   "execution_count": 35,
   "id": "ada95177",
   "metadata": {},
   "outputs": [
    {
     "data": {
      "text/plain": [
       "(30, 10)"
      ]
     },
     "execution_count": 35,
     "metadata": {},
     "output_type": "execute_result"
    }
   ],
   "source": [
    "k_nearest.shape"
   ]
  },
  {
   "cell_type": "markdown",
   "id": "ea2198b9",
   "metadata": {},
   "source": [
    "Identifying the type of each array returned by k_nearest"
   ]
  },
  {
   "cell_type": "code",
   "execution_count": 36,
   "id": "78c1f90d",
   "metadata": {},
   "outputs": [
    {
     "data": {
      "text/plain": [
       "array([[0, 0, 0, 0, 0, 0, 0, 0, 0, 0],\n",
       "       [0, 0, 0, 0, 0, 0, 0, 0, 0, 0],\n",
       "       [0, 0, 0, 0, 0, 0, 0, 0, 0, 0],\n",
       "       [0, 0, 0, 0, 0, 0, 0, 0, 0, 0],\n",
       "       [0, 0, 0, 0, 0, 0, 0, 0, 0, 0],\n",
       "       [0, 0, 0, 0, 0, 0, 0, 0, 0, 0],\n",
       "       [0, 0, 0, 0, 0, 0, 0, 0, 0, 0],\n",
       "       [0, 0, 0, 0, 0, 0, 0, 0, 0, 0],\n",
       "       [0, 0, 0, 0, 0, 0, 0, 0, 0, 0],\n",
       "       [0, 0, 0, 0, 0, 0, 0, 0, 0, 0],\n",
       "       [1, 1, 1, 1, 1, 1, 1, 1, 2, 1],\n",
       "       [1, 1, 1, 1, 1, 1, 1, 1, 1, 1],\n",
       "       [1, 1, 1, 1, 1, 1, 1, 1, 1, 1],\n",
       "       [1, 1, 1, 1, 1, 1, 1, 1, 1, 1],\n",
       "       [1, 1, 1, 1, 1, 1, 1, 1, 1, 1],\n",
       "       [1, 1, 1, 1, 1, 1, 1, 1, 1, 1],\n",
       "       [1, 1, 1, 1, 1, 1, 1, 2, 1, 1],\n",
       "       [1, 1, 1, 1, 1, 1, 1, 1, 1, 1],\n",
       "       [1, 1, 1, 1, 1, 1, 1, 1, 1, 1],\n",
       "       [1, 1, 1, 1, 1, 1, 1, 1, 1, 1],\n",
       "       [2, 2, 2, 2, 2, 2, 2, 2, 2, 2],\n",
       "       [2, 2, 2, 2, 2, 2, 2, 2, 2, 2],\n",
       "       [2, 2, 2, 2, 2, 2, 2, 2, 2, 1],\n",
       "       [2, 1, 2, 2, 1, 2, 2, 2, 1, 1],\n",
       "       [2, 2, 2, 2, 2, 2, 2, 2, 2, 2],\n",
       "       [2, 2, 2, 2, 2, 2, 2, 2, 2, 2],\n",
       "       [2, 2, 2, 2, 1, 1, 2, 2, 2, 2],\n",
       "       [2, 2, 2, 2, 2, 2, 2, 2, 2, 2],\n",
       "       [2, 2, 2, 2, 2, 2, 2, 2, 2, 2],\n",
       "       [2, 2, 2, 2, 2, 1, 1, 2, 2, 2]], dtype=int64)"
      ]
     },
     "execution_count": 36,
     "metadata": {},
     "output_type": "execute_result"
    }
   ],
   "source": [
    "k_nearest_types = types[k_nearest]\n",
    "k_nearest_types"
   ]
  },
  {
   "cell_type": "markdown",
   "id": "4cc1ccaf",
   "metadata": {},
   "source": [
    "5. The most frequent label (mode) in k_nearest_type[i] is assigned as the predicted label for new_irises[i]"
   ]
  },
  {
   "cell_type": "code",
   "execution_count": 37,
   "id": "729713e1",
   "metadata": {},
   "outputs": [
    {
     "data": {
      "text/plain": [
       "array([0, 0, 0, 0, 0, 0, 0, 0, 0, 0, 1, 1, 1, 1, 1, 1, 1, 1, 1, 1, 2, 2,\n",
       "       2, 2, 2, 2, 2, 2, 2, 2], dtype=int64)"
      ]
     },
     "execution_count": 37,
     "metadata": {},
     "output_type": "execute_result"
    }
   ],
   "source": [
    "from scipy import stats\n",
    "predicted_types = stats.mode(k_nearest_types, axis=1).mode.reshape(m)\n",
    "predicted_types"
   ]
  },
  {
   "cell_type": "markdown",
   "id": "98102fb4",
   "metadata": {},
   "source": [
    "6. Calculating model accuracy"
   ]
  },
  {
   "cell_type": "code",
   "execution_count": 38,
   "id": "9271f81c",
   "metadata": {},
   "outputs": [
    {
     "name": "stdout",
     "output_type": "stream",
     "text": [
      "Accuracy: 1.0\n"
     ]
    }
   ],
   "source": [
    "new_types = np.load('new_types.npy')\n",
    "accuracy = np.mean(predicted_types == new_types)\n",
    "print('Accuracy:', accuracy)"
   ]
  },
  {
   "cell_type": "code",
   "execution_count": null,
   "id": "c1231fe7",
   "metadata": {},
   "outputs": [],
   "source": []
  }
 ],
 "metadata": {
  "kernelspec": {
   "display_name": "Python 3",
   "language": "python",
   "name": "python3"
  },
  "language_info": {
   "codemirror_mode": {
    "name": "ipython",
    "version": 3
   },
   "file_extension": ".py",
   "mimetype": "text/x-python",
   "name": "python",
   "nbconvert_exporter": "python",
   "pygments_lexer": "ipython3",
   "version": "3.11.9"
  }
 },
 "nbformat": 4,
 "nbformat_minor": 5
}
